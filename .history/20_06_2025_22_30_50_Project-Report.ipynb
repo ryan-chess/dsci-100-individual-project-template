{
 "cells": [
  {
   "cell_type": "markdown",
   "id": "31293304-3c63-4682-8645-5f6cfcee6d11",
   "metadata": {},
   "source": [
    "DSCI 100 Project\n",
    "\n",
    "name: Ryan Cheng \n",
    "\n",
    "student ID: 53355756"
   ]
  },
  {
   "cell_type": "markdown",
   "id": "2960e899-efa6-463e-b978-909a087e6c5c",
   "metadata": {},
   "source": [
    "Question to answer: \n",
    "\n",
    "    Question 2: We would like to know which \"kinds\" of players are most likely to contribute a large amount of data so that we can target those players in our recruiting efforts."
   ]
  },
  {
   "cell_type": "code",
   "execution_count": null,
   "id": "54217754-b52c-4b3d-9af8-7c3f6f8c6b43",
   "metadata": {},
   "outputs": [],
   "source": [
    "# libraries / plot setting \n",
    "library(tidyverse)\n",
    "library(tidymodels)\n",
    "library(repr)\n",
    "library(GGally)\n",
    "options(repr.plot.width = 11, repr.plot.height = 8)\n",
    "options(repr.matrix.max.rows = 6)"
   ]
  },
  {
   "cell_type": "markdown",
   "id": "1138ddc3-51d0-45c3-bc12-7cb80f6ad60f",
   "metadata": {},
   "source": [
    "# Introduction"
   ]
  },
  {
   "cell_type": "markdown",
   "id": "ccf00fb5-eb46-4dc9-9d59-ce952112697a",
   "metadata": {},
   "source": [
    "This is a "
   ]
  },
  {
   "cell_type": "markdown",
   "id": "cc325ef4-e460-4be3-bb53-a2e747908375",
   "metadata": {},
   "source": [
    "# Methods"
   ]
  },
  {
   "cell_type": "code",
   "execution_count": null,
   "id": "31d7283d-90b7-4df7-8bdd-04bd9b96c21b",
   "metadata": {},
   "outputs": [],
   "source": [
    "#Read the data from the data folder\n",
    "players <- read_csv(\"data/players.csv\")|>\n",
    "    as.data.frame()|>\n",
    "    mutate(subscribe = as.factor(subscribe))|> # make the subscribe column a factor instead of \"lgl\"\n",
    "     mutate(experience = case_when(\n",
    "    experience == \"Beginner\" ~ 1,\n",
    "    experience == \"Amateur\"  ~ 2,\n",
    "    experience == \"Regular\"  ~ 3,\n",
    "    experience == \"Veteran\"  ~ 4,\n",
    "    experience == \"Pro\"      ~ 5,))#quantify the experience value \n",
    "head(players) #used head as there are too many rows\n"
   ]
  },
  {
   "cell_type": "code",
   "execution_count": null,
   "id": "ac76ec2c-d662-4f14-9d6b-d2bfe6e400ad",
   "metadata": {},
   "outputs": [],
   "source": [
    "# session <- read_csv(\"data/session.csv\")|>\n",
    "#     as.data.frame()\n",
    "# head(session)#not useful for this question"
   ]
  },
  {
   "cell_type": "markdown",
   "id": "fb685496-1fcb-4c3d-8d90-07b12876176a",
   "metadata": {},
   "source": [
    "In order to find out which \"kinds\" of players are most likely to contribute a large amount of data, we need to make a model that predicts the played hours of the players. This kind of problem is a Regression problem. \n",
    "\n",
    "Looking at the players data, there are four varibles that can be use to do the prediction : experience, subscribe, gender, and age.\n",
    "\n",
    "First, we need to scale the data and make some scatter plots to show the relationship between the varibles. "
   ]
  },
  {
   "cell_type": "code",
   "execution_count": null,
   "id": "1197b021-91d4-443b-9960-3256a22433c1",
   "metadata": {},
   "outputs": [],
   "source": [
    "players_age_plot <- players|>\n",
    "    ggplot(aes(x = played_hours, y = Age)) +\n",
    "    geom_point(alpha = 0.4)+\n",
    "    xlab(\"played hours (hours)\")+\n",
    "    ylab(\"age (Years)\")+\n",
    "    ggtitle(\"Age Versus Played Hours\")+\n",
    "theme(text = element_text(size = 20))\n",
    "players_age_plot  "
   ]
  },
  {
   "cell_type": "code",
   "execution_count": null,
   "id": "4080cd76-1897-4339-94b6-7a359c17b571",
   "metadata": {},
   "outputs": [],
   "source": [
    "players_experience_plot <- players|>\n",
    "    ggplot(aes(x = played_hours, y = experience)) +\n",
    "    geom_point(alpha = 0.4)+\n",
    "    xlab(\"played hours (hours)\")+\n",
    "    ylab(\"experience of the player\")+\n",
    "    ggtitle(\"Experience of the Player Versus Played Hours\")+\n",
    "theme(text = element_text(size = 20))\n",
    "players_experience_plot  "
   ]
  },
  {
   "cell_type": "markdown",
   "id": "bac95b44-339d-4c74-9de9-ebdead1dd427",
   "metadata": {},
   "source": [
    "Looking at the two plots, it doesn't seem like there is any strong linear relationship between the varibles. Thus, k-nearest neighbors regression will be used to solve this problem.  "
   ]
  },
  {
   "cell_type": "markdown",
   "id": "6441c980-21d1-40ac-9c72-bc784cdf463b",
   "metadata": {},
   "source": [
    "# Model"
   ]
  },
  {
   "cell_type": "markdown",
   "id": "c59b2834-ea9d-4b4e-8a9b-6a2c3c3f40cc",
   "metadata": {},
   "source": [
    "First, we should spilt the data into a training part and a testing part. The training part will be 75% of the data and the testing part will be 25%. "
   ]
  },
  {
   "cell_type": "code",
   "execution_count": null,
   "id": "09936e73-c516-415f-9259-d72ad6100f29",
   "metadata": {},
   "outputs": [],
   "source": [
    "players_split <- initial_split(players, prop = 0.75, strata = played_hours) #spliting the players data\n",
    "players_training <- training(players_split)\n",
    "players_testing <- testing(players_split)"
   ]
  },
  {
   "cell_type": "code",
   "execution_count": null,
   "id": "cd61e815-7ee6-4920-86d3-42a36c329359",
   "metadata": {},
   "outputs": [],
   "source": [
    "#create a recipe that predicts played hours with the varibles and scale the data\n",
    "player_recipe <- recipe(played_hours ~ experience + Age + gender + subscribe, data = players_training)|>\n",
    "    step_scale(all_of(c(\"experience\", \"Age\")))|> #we cannot scale gender and subscribe\n",
    "    step_center(all_of(c(\"experience\", \"Age\")))\n",
    "#create a model specification for k-nearest neighbors regression\n",
    "player_spec <- nearest_neighbor(weight_func = \"rectangular\", neighbors = tune())|>\n",
    "    set_engine(\"kknn\")|>\n",
    "    set_mode(\"regression\")\n",
    "#use 5- fold cross validation to find the best k value\n",
    "player_vfold <- vfold_cv(players_training, v = 5, strata = played_hours)\n",
    "\n",
    "player_workflow <- workflow()|>\n",
    "    add_recipe(player_recipe)|>\n",
    "    add_model(player_spec)"
   ]
  },
  {
   "cell_type": "markdown",
   "id": "ce32242e-2a83-4d35-813c-48c42e8ee86f",
   "metadata": {},
   "source": [
    "We will run cross validation for grid numbers of 1 to 30"
   ]
  },
  {
   "cell_type": "code",
   "execution_count": null,
   "id": "cd9c8bed-43d1-4b54-a9d5-14882b31991a",
   "metadata": {},
   "outputs": [],
   "source": [
    "k_vals <- tibble(neighbors = seq(from = 1, to = 30, by = 1))\n",
    "\n",
    "player_result <- player_workflow|>\n",
    "    tune_grid(resamples = player_vfold, grid = k_vals)|>\n",
    "    collect_metrics()|>\n",
    "     filter(.metric ==\"rmse\")\n",
    "player_result"
   ]
  },
  {
   "cell_type": "code",
   "execution_count": null,
   "id": "de143db9-11b5-49c9-a970-5f49344fce39",
   "metadata": {},
   "outputs": [],
   "source": [
    "player_min <- player_result|>\n",
    "    filter(mean == min(mean))\n",
    "player_min"
   ]
  },
  {
   "cell_type": "markdown",
   "id": "27804e34-0808-44f7-af56-497e249b21e9",
   "metadata": {},
   "source": [
    "It seems like k = 25 will give us the lowest RMSE. "
   ]
  },
  {
   "cell_type": "markdown",
   "id": "ec0c8ab5-fa00-428c-9e0e-d8a4cfc654f7",
   "metadata": {},
   "source": [
    "# Result"
   ]
  },
  {
   "cell_type": "code",
   "execution_count": null,
   "id": "018c9725-411a-406c-bf65-bcd14c1cba1c",
   "metadata": {},
   "outputs": [],
   "source": [
    "players_spec <- nearest_neighbor(weight_func = \"rectangular\", neighbors = 25)|>\n",
    "    set_engine(\"kknn\")|>\n",
    "    set_mode(\"regression\")\n",
    "\n",
    "player_fit <- workflow()|>\n",
    "    add_recipe(player_recipe)|>\n",
    "    add_model(players_spec)|>\n",
    "    fit(data = players_training)\n",
    "\n",
    "\n",
    "\n",
    "# player_summary <- player_fit|>\n",
    "#     predict(players_testing)|>\n",
    "#     bind_cols(players_testing)|>\n",
    "#     metrics(truth = played_hours, estimate = .pred)|>\n",
    "#     filter(.metric == \"rmse\")\n",
    "# player_summary"
   ]
  },
  {
   "cell_type": "code",
   "execution_count": null,
   "id": "7d20eb8b-7799-4708-bb95-9905eddfc5a9",
   "metadata": {},
   "outputs": [],
   "source": []
  }
 ],
 "metadata": {
  "kernelspec": {
   "display_name": "R",
   "language": "R",
   "name": "ir"
  },
  "language_info": {
   "codemirror_mode": "r",
   "file_extension": ".r",
   "mimetype": "text/x-r-source",
   "name": "R",
   "pygments_lexer": "r",
   "version": "4.3.3"
  }
 },
 "nbformat": 4,
 "nbformat_minor": 5
}
