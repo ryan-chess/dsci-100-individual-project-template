{
 "cells": [
  {
   "cell_type": "markdown",
   "id": "31293304-3c63-4682-8645-5f6cfcee6d11",
   "metadata": {},
   "source": [
    "DSCI 100 Project\n",
    "\n",
    "name: Ryan Cheng \n",
    "\n",
    "student ID: 53355756"
   ]
  },
  {
   "cell_type": "markdown",
   "id": "2960e899-efa6-463e-b978-909a087e6c5c",
   "metadata": {},
   "source": [
    "Question to answer: \n",
    "\n",
    "    Question 2: We would like to know which \"kinds\" of players are most likely to contribute a large amount of data so that we can target those players in our recruiting efforts."
   ]
  },
  {
   "cell_type": "code",
   "execution_count": null,
   "id": "54217754-b52c-4b3d-9af8-7c3f6f8c6b43",
   "metadata": {},
   "outputs": [],
   "source": [
    "# library / plot setting \n",
    "library(tidyverse)\n",
    "library(tidymodels)\n",
    "library(repr)\n",
    "library(GGally)\n",
    "options(repr.plot.width = 11, repr.plot.height = 8)\n",
    "options(repr.matrix.max.rows = 6)"
   ]
  },
  {
   "cell_type": "code",
   "execution_count": null,
   "id": "aec435cf-a295-4ace-b06e-96c75a84c9bc",
   "metadata": {},
   "outputs": [],
   "source": []
  }
 ],
 "metadata": {
  "kernelspec": {
   "display_name": "R",
   "language": "R",
   "name": "ir"
  },
  "language_info": {
   "codemirror_mode": "r",
   "file_extension": ".r",
   "mimetype": "text/x-r-source",
   "name": "R",
   "pygments_lexer": "r",
   "version": "4.3.3"
  }
 },
 "nbformat": 4,
 "nbformat_minor": 5
}
