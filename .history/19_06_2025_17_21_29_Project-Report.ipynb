{
 "cells": [
  {
   "cell_type": "markdown",
   "id": "31293304-3c63-4682-8645-5f6cfcee6d11",
   "metadata": {},
   "source": [
    "DSCI 100 Project\n",
    "\n",
    "name: Ryan Cheng \n",
    "\n",
    "student ID: 53355756"
   ]
  },
  {
   "cell_type": "markdown",
   "id": "2960e899-efa6-463e-b978-909a087e6c5c",
   "metadata": {},
   "source": [
    "Question to answer: \n",
    "\n",
    "    Question 2: We would like to know which \"kinds\" of players are most likely to contribute a large amount of data so that we can target those players in our recruiting efforts."
   ]
  },
  {
   "cell_type": "code",
   "execution_count": null,
   "id": "54217754-b52c-4b3d-9af8-7c3f6f8c6b43",
   "metadata": {},
   "outputs": [],
   "source": [
    "# libraries / plot setting \n",
    "library(tidyverse)\n",
    "library(tidymodels)\n",
    "library(repr)\n",
    "library(GGally)\n",
    "options(repr.plot.width = 11, repr.plot.height = 8)\n",
    "options(repr.matrix.max.rows = 6)"
   ]
  },
  {
   "cell_type": "code",
   "execution_count": null,
   "id": "0eecd343-4050-4f3c-8b82-f14463087d3c",
   "metadata": {},
   "outputs": [],
   "source": []
  },
  {
   "cell_type": "code",
   "execution_count": null,
   "id": "31d7283d-90b7-4df7-8bdd-04bd9b96c21b",
   "metadata": {},
   "outputs": [],
   "source": [
    "#Read the data from the data folder\n",
    "players <- read_csv(\"data/players.csv\")|>\n",
    "    as.data.frame()\n",
    "head(players) #used head as there are too many rows\n",
    "#clean the data\n"
   ]
  },
  {
   "cell_type": "code",
   "execution_count": null,
   "id": "ac76ec2c-d662-4f14-9d6b-d2bfe6e400ad",
   "metadata": {},
   "outputs": [],
   "source": [
    "session <- read_csv(\"data/session.csv\")|>\n",
    "    as.data.frame()\n",
    "head(session)"
   ]
  },
  {
   "cell_type": "markdown",
   "id": "fb685496-1fcb-4c3d-8d90-07b12876176a",
   "metadata": {},
   "source": [
    "Looking at the player"
   ]
  }
 ],
 "metadata": {
  "kernelspec": {
   "display_name": "R",
   "language": "R",
   "name": "ir"
  },
  "language_info": {
   "codemirror_mode": "r",
   "file_extension": ".r",
   "mimetype": "text/x-r-source",
   "name": "R",
   "pygments_lexer": "r",
   "version": "4.3.3"
  }
 },
 "nbformat": 4,
 "nbformat_minor": 5
}
